{
 "cells": [
  {
   "cell_type": "code",
   "execution_count": null,
   "id": "6728929b",
   "metadata": {},
   "outputs": [
    {
     "name": "stdout",
     "output_type": "stream",
     "text": [
      "----- MENU PILIHAN -----\n",
      "1. Menghitung FPB\n",
      "2. Menghitung KPK\n",
      "3. Keluar\n",
      " \n"
     ]
    }
   ],
   "source": [
    "#FPB adalah bilangan bulat positif terbesar yang dapat membagi habis dua atau lebih bilangan bulat.\n",
    "#KPK adalah bilangan bulat positif terkecil yang dapat dibagi habis oleh dua atau lebih bilangan bulat.\n",
    "\n",
    "#Fungsi python untuk perhitungan FPB\n",
    "def hitung_fpb(a, b): #Fungsi hitung_fpb di defenisikan dengan 2 parameter, yaitu inpuan a dan b\n",
    "    while b != 0: # while loop yang mana b tidak boleh sama dengan 0\n",
    "        a, b = b, a % b\n",
    "    return a\n",
    "\n",
    "#Fungsi python untuk perhitungan KPK\n",
    "def hitung_kpk(a, b): \n",
    "    if a == 0 or b == 0:\n",
    "        return 0\n",
    "    kpk = max(a, b)\n",
    "    while True:\n",
    "        if kpk % a == 0 and kpk % b == 0:\n",
    "            return kpk\n",
    "        kpk += 1\n",
    "\n",
    "def tampilkan_menu(): #menu pilihan untuk mencari FPB dan KPK atau mau keluar dari program\n",
    "    print(\"----- MENU PILIHAN -----\")\n",
    "    print(\"1. Menghitung FPB\")\n",
    "    print(\"2. Menghitung KPK\")\n",
    "    print(\"3. Keluar\")\n",
    "\n",
    "def main():\n",
    "    while True:\n",
    "        tampilkan_menu()\n",
    "        try:\n",
    "            print(\" \")\n",
    "            pilihan = int(input(\"Masukkan pilihan Anda: \")) #inputan untuk memilih pilihan yang akan dicari user\n",
    "        except ValueError:\n",
    "            print(\"Input data tidak valid, mohon input dengan benar\") #ketika inputan salah / tidak sesuai dengan option\n",
    "            continue\n",
    "\n",
    "        if pilihan == 1: #case1 untuk mencari FPB\n",
    "            try:\n",
    "                print(\" \")\n",
    "                a = int(input(\"Masukkan bilangan A : \")) #inputan untuk bil.A\n",
    "                b = int(input(\"Masukkan bilangan B: \")) #inputan untuk bil.B\n",
    "            except ValueError:\n",
    "                print(\"Input data tidak valid, mohon input dengan benar\")\n",
    "                continue\n",
    "            fpb = hitung_fpb(a, b)\n",
    "            print(\"FPB dari\", a, \"dan\", b, \"adalah\", fpb) #data yang diinpukan diproses(hitung_fpb dari a & b) kemudian di print\n",
    "            print(\" \")\n",
    "\n",
    "        elif pilihan == 2: #case2 untuk mencari KPK\n",
    "            try:\n",
    "                print(\" \")\n",
    "                a = int(input(\"Masukkan bilangan A : \"))\n",
    "                b = int(input(\"Masukkan bilangan B : \"))\n",
    "            except ValueError:\n",
    "                print(\"Input data tidak valid, mohon input dengan benar\") \n",
    "                continue\n",
    "            kpk = hitung_kpk(a, b)\n",
    "            print(\"KPK dari\", a, \"dan\", b, \"adalah\", kpk)\n",
    "            print(\" \")\n",
    "\n",
    "        elif pilihan == 3: #case 3 keluar dari program\n",
    "            print(\"Terima Kasih, SEMOGA HARIMU PENUH DENGAN TUGAS :D\")\n",
    "            break\n",
    "\n",
    "        else: \n",
    "            print(\"Input data tidak valid, mohon input dengan benar\")\n",
    "\n",
    "if __name__ == '__main__': # mengevaluasi program\n",
    "    main()"
   ]
  },
  {
   "cell_type": "code",
   "execution_count": null,
   "id": "bd2bff5e",
   "metadata": {},
   "outputs": [],
   "source": []
  }
 ],
 "metadata": {
  "kernelspec": {
   "display_name": "Python 3 (ipykernel)",
   "language": "python",
   "name": "python3"
  },
  "language_info": {
   "codemirror_mode": {
    "name": "ipython",
    "version": 3
   },
   "file_extension": ".py",
   "mimetype": "text/x-python",
   "name": "python",
   "nbconvert_exporter": "python",
   "pygments_lexer": "ipython3",
   "version": "3.9.12"
  }
 },
 "nbformat": 4,
 "nbformat_minor": 5
}
